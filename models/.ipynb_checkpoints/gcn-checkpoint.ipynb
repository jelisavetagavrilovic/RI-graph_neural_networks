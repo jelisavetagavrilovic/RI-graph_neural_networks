{
 "cells": [
  {
   "cell_type": "code",
   "execution_count": 1,
   "id": "48935aea-44c0-4380-9835-6405db6b7ce3",
   "metadata": {},
   "outputs": [],
   "source": [
    "import torch\n",
    "import torch.nn.functional as F\n",
    "import torchmetrics\n",
    "from torch_geometric.nn import GCNConv\n",
    "import matplotlib.pyplot as plt\n",
    "import numpy as np\n",
    "import pickle\n",
    "from sklearn.model_selection import train_test_split\n",
    "import itertools"
   ]
  },
  {
   "cell_type": "code",
   "execution_count": 2,
   "id": "fc984af8-767a-49ff-8498-9fec500ae9d1",
   "metadata": {},
   "outputs": [],
   "source": [
    "# ucitavanje grafa\n",
    "with open('../preprocessing/graph.pkl', 'rb') as f:\n",
    "    G = pickle.load(f)"
   ]
  },
  {
   "cell_type": "code",
   "execution_count": 3,
   "id": "f33e0ac1-bc6a-49b9-9f24-a352c389c532",
   "metadata": {},
   "outputs": [],
   "source": [
    "from torch_geometric.utils import from_networkx\n",
    "data = from_networkx(G)"
   ]
  },
  {
   "cell_type": "code",
   "execution_count": 4,
   "id": "9929a169-9d33-43c0-aaf1-25f511d77c04",
   "metadata": {},
   "outputs": [],
   "source": [
    "# podela cvorova na trening, validacioni i test skup\n",
    "nodes = list(G.nodes)\n",
    "train_nodes, test_nodes = train_test_split(nodes, test_size=0.2, random_state=42)\n",
    "train_nodes, val_nodes = train_test_split(train_nodes, test_size=0.2, random_state=42)"
   ]
  },
  {
   "cell_type": "code",
   "execution_count": 5,
   "id": "7901c87b-5bb8-4f05-9259-ddddf65f9fa4",
   "metadata": {},
   "outputs": [],
   "source": [
    "# kreiranje maske za skupove\n",
    "train_mask = torch.tensor([True if node in train_nodes else False for node in range(len(G.nodes))])\n",
    "val_mask = torch.tensor([True if node in val_nodes else False for node in range(len(G.nodes))])\n",
    "test_mask = torch.tensor([True if node in test_nodes else False for node in range(len(G.nodes))])"
   ]
  },
  {
   "cell_type": "code",
   "execution_count": 6,
   "id": "cf2ec2df-500a-47e8-b207-d2ad4969f271",
   "metadata": {},
   "outputs": [],
   "source": [
    "# atributi\n",
    "node_features = [list(G.nodes[node].values())[:-1] for node in G.nodes]\n",
    "node_features = torch.tensor(node_features, dtype=torch.float)\n",
    "\n",
    "# ciljne promenljive\n",
    "labels = np.array([G.nodes[node]['target'] for node in G.nodes])\n",
    "labels = torch.tensor(labels, dtype=torch.float)\n",
    "\n",
    "# dodajemo i labelu koja ce da oznacava da cvor ne pripada nijednoj ego mrezi \n",
    "# -> kako bismo mogli da dodelimo odgovarajucu tezinu zbog nebalansiranosti klasa :)\n",
    "no_class_nodes = (labels.sum(dim=1) == 0).float()\n",
    "dummy_class = no_class_nodes.unsqueeze(1)\n",
    "labels = torch.cat([labels, dummy_class], dim=1)\n",
    "\n",
    "\n",
    "data.x = node_features\n",
    "data.y = labels\n",
    "data.train_mask = train_mask\n",
    "data.val_mask = val_mask\n",
    "data.test_mask = test_mask"
   ]
  },
  {
   "cell_type": "code",
   "execution_count": 7,
   "id": "6f038773-ab62-4ae2-8dcc-4849c06a66ee",
   "metadata": {},
   "outputs": [],
   "source": [
    "class GCN(torch.nn.Module):\n",
    "    def __init__(self, in_channels, hidden_channels, out_channels, dropout_rate):\n",
    "        super(GCN, self).__init__()\n",
    "        self.conv1 = GCNConv(in_channels, hidden_channels)\n",
    "        self.dropout = torch.nn.Dropout(dropout_rate)\n",
    "        self.conv2 = GCNConv(hidden_channels, out_channels)\n",
    "\n",
    "    def forward(self, data):\n",
    "        x, edge_index = data.x, data.edge_index\n",
    "        x = self.conv1(x, edge_index)\n",
    "        x = F.relu(x)\n",
    "        x = self.dropout(x)\n",
    "        x = self.conv2(x, edge_index)\n",
    "        return x"
   ]
  },
  {
   "cell_type": "code",
   "execution_count": 8,
   "id": "77b915e4-87a9-41cc-a4b7-b9441760a356",
   "metadata": {},
   "outputs": [],
   "source": [
    "# Hiperparametri\n",
    "hyperparameters = {\n",
    "    'hidden_channels': [32, 64],\n",
    "    'dropout_rate': [0.2, 0.5],\n",
    "    'num_epochs': [50, 100]\n",
    "}\n",
    "learning_rate = 0.01\n",
    "weight_decay = 5e-4\n",
    "# early_stopping_threshold = 20  # Broj epoha pre zaustavljanja"
   ]
  },
  {
   "cell_type": "code",
   "execution_count": 9,
   "id": "d90369c3-947f-4d10-8db3-bd6f26802317",
   "metadata": {},
   "outputs": [],
   "source": [
    "# metrike\n",
    "device = 'cuda' if torch.cuda.is_available() else 'cpu'\n",
    "precision = torchmetrics.Precision(num_labels=labels.shape[1], average='macro', task='multilabel').to(device)\n",
    "recall = torchmetrics.Recall(num_labels=labels.shape[1], average='macro', task='multilabel').to(device)\n",
    "f1 = torchmetrics.F1Score(num_labels=labels.shape[1], average='macro', task='multilabel').to(device)"
   ]
  },
  {
   "cell_type": "code",
   "execution_count": 10,
   "id": "3886fb86-dfee-4e8f-a9f9-b70e99167871",
   "metadata": {},
   "outputs": [],
   "source": [
    "from sklearn.metrics import multilabel_confusion_matrix\n",
    "import matplotlib.pyplot as plt\n",
    "import seaborn as sns\n",
    "import pandas as pd\n",
    "\n",
    "ego_to_index_df = pd.read_csv(\"../preprocessing/ego_to_index.csv\", index_col=0)\n",
    "ego_to_index = ego_to_index_df.to_dict(orient='index')\n",
    "ego_to_index = {int(ego_id): int(index['index']) for ego_id, index in ego_to_index.items()}\n",
    "\n",
    "# Funkcija za prikaz matricu konfuzije\n",
    "def plot_confusion_matrix(y_true, y_pred, num_classes):\n",
    "    # Izračunavanje multilabel matrice konfuzije\n",
    "    conf_matrix = multilabel_confusion_matrix(y_true, y_pred)\n",
    "    \n",
    "    # Prikaz za svaku klasu\n",
    "    for i in range(num_classes):\n",
    "        plt.figure(figsize=(5, 4))\n",
    "        sns.heatmap(conf_matrix[i], annot=True, fmt='d', cmap='Blues')\n",
    "        if i == 10:\n",
    "            plt.title(f'Matrica konfuzije za čvorove koji ne pripadaju nijednoj ego mreži')\n",
    "        else:\n",
    "            plt.title(f'Matrica konfuzije za ego mrežu čvora {[key for key, value in ego_to_index.items() if value == i]}')\n",
    "        plt.xlabel('Predicted')\n",
    "        plt.ylabel('True')\n",
    "        plt.show()"
   ]
  },
  {
   "cell_type": "code",
   "execution_count": 11,
   "id": "fb654891-17f3-4329-9513-c4c70d5ffbc1",
   "metadata": {},
   "outputs": [
    {
     "name": "stdout",
     "output_type": "stream",
     "text": [
      "Nodes in ego (train only): tensor([168., 290., 133.,  94., 112.,  33., 498., 474.,  68.,  36., 736.])\n",
      "Class weights: tensor([15.3810,  8.9103, 19.4286, 27.4894, 23.0714, 78.3030,  5.1888,  5.4515,\n",
      "        38.0000, 71.7778,  3.5109])\n"
     ]
    }
   ],
   "source": [
    "train_labels = labels[data.train_mask]  \n",
    "nodes_in_ego_train = train_labels.sum(dim=0)\n",
    "\n",
    "total_train_nodes_num = train_labels.shape[0]\n",
    "class_weights = total_train_nodes_num / (nodes_in_ego_train + 1e-6)  \n",
    "\n",
    "print(f'Nodes in ego (train only): {nodes_in_ego_train}')\n",
    "print(f'Class weights: {class_weights}')"
   ]
  },
  {
   "cell_type": "code",
   "execution_count": null,
   "id": "5495a26d-d4e8-4fe3-96b6-4ba91df359e0",
   "metadata": {},
   "outputs": [],
   "source": []
  },
  {
   "cell_type": "code",
   "execution_count": 12,
   "id": "860d7f10-308d-4077-9049-3721a975505b",
   "metadata": {},
   "outputs": [],
   "source": [
    "def train():\n",
    "    model.train()\n",
    "    optimizer.zero_grad()\n",
    "    \n",
    "    pred_train = model(data)[data.train_mask].to(device)\n",
    "    loss = criterion(pred_train, data.y[data.train_mask].float().to(device))\n",
    "    loss.backward()\n",
    "    optimizer.step()\n",
    "    \n",
    "    preds_train = (torch.sigmoid(pred_train) > 0.5).float()\n",
    "    acc_train = (preds_train == data.y[data.train_mask].to(device)).float().mean()\n",
    "    precision_train = precision(pred_train.to(device), data.y[data.train_mask].to(device))\n",
    "    recall_train = recall(pred_train.to(device), data.y[data.train_mask].to(device))\n",
    "    f1_train = f1(pred_train.to(device), data.y[data.train_mask].to(device))\n",
    "    \n",
    "    return loss, acc_train.item(), precision_train.item(), recall_train.item(), f1_train.item()"
   ]
  },
  {
   "cell_type": "code",
   "execution_count": 13,
   "id": "8adaa4c9-f90b-4292-bdeb-57a49b9bc156",
   "metadata": {},
   "outputs": [],
   "source": [
    "def evaluate(mask):\n",
    "    model.eval()\n",
    "    with torch.no_grad():\n",
    "        pred_val = model(data)[mask].to(device)\n",
    "        loss_val = criterion(pred_val, data.y[mask].float().to(device))\n",
    "        \n",
    "        preds_val = (torch.sigmoid(pred_val) > 0.5).float()\n",
    "        acc_val = (preds_val == data.y[mask].to(device)).float().mean()\n",
    "        precision_val = precision(pred_val.to(device), data.y[mask].to(device))\n",
    "        recall_val = recall(pred_val.to(device), data.y[mask].to(device))\n",
    "        f1_val = f1(pred_val.to(device), data.y[mask].to(device))\n",
    "\n",
    "        if torch.equal(mask, data.test_mask):\n",
    "            # Vizualizacija matrice konfuzije na test skupu\n",
    "            plot_confusion_matrix(data.y[data.test_mask].to(device), preds_val.to(device), labels.shape[1])\n",
    "        \n",
    "        \n",
    "    return loss_val, acc_val.item(), precision_val.item(), recall_val.item(), f1_val.item()"
   ]
  },
  {
   "cell_type": "code",
   "execution_count": null,
   "id": "d31c8c6f-773b-4621-9df7-8d2d45e2714e",
   "metadata": {},
   "outputs": [
    {
     "name": "stdout",
     "output_type": "stream",
     "text": [
      "Testing parameters: (32, 0.2, 50)\n",
      "[Train] Epoch: 0, Loss: 1.3289, Accuracy: 0.4845, Precision: 0.1291, Recall: 0.4400, F1: 0.1557\n",
      "[Train] Epoch: 10, Loss: 0.6074, Accuracy: 0.8615, Precision: 0.4500, Recall: 0.9892, F1: 0.5652\n",
      "[Train] Epoch: 20, Loss: 0.3134, Accuracy: 0.9434, Precision: 0.6410, Recall: 0.9790, F1: 0.7373\n",
      "[Train] Epoch: 30, Loss: 0.2464, Accuracy: 0.9458, Precision: 0.6494, Recall: 0.9809, F1: 0.7413\n",
      "[Train] Epoch: 40, Loss: 0.2277, Accuracy: 0.9478, Precision: 0.6627, Recall: 0.9816, F1: 0.7524\n",
      "[Validate] Epoch: 49, Loss: 0.2525, Accuracy: 0.9483, Precision: 0.6704, Recall: 0.9828, F1: 0.7582\n",
      "Testing parameters: (32, 0.2, 100)\n",
      "[Train] Epoch: 0, Loss: 1.3202, Accuracy: 0.5411, Precision: 0.1271, Recall: 0.5982, F1: 0.1763\n"
     ]
    }
   ],
   "source": [
    "# treniranje i podešavanje hiperparametara\n",
    "best_params = None\n",
    "best_loss = float('inf')\n",
    "\n",
    "# kreiranje sve kombinacije hiperparametara\n",
    "param_combinations = list(itertools.product(\n",
    "    hyperparameters['hidden_channels'],\n",
    "    hyperparameters['dropout_rate'],\n",
    "    hyperparameters['num_epochs']\n",
    "))\n",
    "\n",
    "for params in param_combinations:\n",
    "    hidden_channels, dropout_rate, num_epochs = params\n",
    "    print(f'Testing parameters: {params}')\n",
    "\n",
    "    # Inicijalizacija modela, optimizatora i kriterijuma\n",
    "    model = None\n",
    "    model = GCN(in_channels=node_features.shape[1], hidden_channels=hidden_channels, out_channels=labels.shape[1], dropout_rate=dropout_rate).to(device)\n",
    "    optimizer = torch.optim.Adam(model.parameters(), lr=learning_rate, weight_decay=weight_decay)\n",
    "    criterion = torch.nn.BCEWithLogitsLoss(pos_weight=class_weights.to(device))\n",
    "\n",
    "    for epoch in range(num_epochs):\n",
    "        loss_train, acc_train, precision_train, recall_train, f1_train = train()\n",
    "        \n",
    "        if epoch % 10 == 0:\n",
    "            print(f'[Train] Epoch: {epoch}, Loss: {loss_train:.4f}, Accuracy: {acc_train:.4f}, Precision: {precision_train:.4f}, Recall: {recall_train:.4f}, F1: {f1_train:.4f}')\n",
    "        \n",
    "        if epoch == num_epochs-1:\n",
    "            loss_val, acc_val, precision_val, recall_val, f1_val = evaluate(data.val_mask)\n",
    "            print(f'[Validate] Epoch: {epoch}, Loss: {loss_val:.4f}, Accuracy: {acc_val:.4f}, Precision: {precision_val:.4f}, Recall: {recall_val:.4f}, F1: {f1_val:.4f}')\n",
    "            if loss_val < best_loss:\n",
    "                best_loss = loss_val\n",
    "                best_params = params\n",
    "\n",
    "print(f'Best parameters: {best_params}, with loss: {best_loss:.4f}')"
   ]
  },
  {
   "cell_type": "code",
   "execution_count": null,
   "id": "a20b81c3-3951-474d-a438-81d5ba158e68",
   "metadata": {},
   "outputs": [],
   "source": [
    "# Pokreni testiranje sa najboljim parametrima\n",
    "hidden_channels, dropout_rate, num_epochs = best_params\n",
    "print(f'Testing the best model with parameters: {best_params}')\n",
    "\n",
    "# inicijalizacija modela sa najboljim parametrima\n",
    "model = GCN(in_channels=node_features.shape[1], hidden_channels=hidden_channels, out_channels=labels.shape[1], dropout_rate=dropout_rate).to(device)\n",
    "optimizer = torch.optim.Adam(model.parameters(), lr=learning_rate, weight_decay=weight_decay)\n",
    "criterion = torch.nn.BCEWithLogitsLoss(pos_weight=class_weights.to(device))\n",
    "\n",
    "for epoch in range(num_epochs):\n",
    "    loss_train, acc_train, precision_train, recall_train, f1_train = train()\n",
    "\n",
    "test_loss, test_acc, test_precision, test_recall, test_f1 = evaluate(data.test_mask)\n",
    "\n",
    "# prikaz rezultata na test skupu\n",
    "print(f'Test Loss: {test_loss:.4f}')\n",
    "print(f'Test Accuracy: {test_acc:.4f}')\n",
    "print(f'Test Precision: {test_precision:.4f}')\n",
    "print(f'Test Recall: {test_recall:.4f}')\n",
    "print(f'Test F1 Score: {test_f1:.4f}')"
   ]
  },
  {
   "cell_type": "code",
   "execution_count": null,
   "id": "28f052a3-b503-48a3-a219-5ec4c4073bff",
   "metadata": {},
   "outputs": [],
   "source": []
  },
  {
   "cell_type": "code",
   "execution_count": null,
   "id": "59bdac10-7262-426d-8814-318b36690b0c",
   "metadata": {},
   "outputs": [],
   "source": [
    "\n",
    "\n"
   ]
  },
  {
   "cell_type": "code",
   "execution_count": null,
   "id": "b8167ef0",
   "metadata": {},
   "outputs": [],
   "source": []
  },
  {
   "cell_type": "code",
   "execution_count": null,
   "id": "0ae3b4cc",
   "metadata": {},
   "outputs": [],
   "source": []
  }
 ],
 "metadata": {
  "kernelspec": {
   "display_name": "Python 3 (ipykernel)",
   "language": "python",
   "name": "python3"
  },
  "language_info": {
   "codemirror_mode": {
    "name": "ipython",
    "version": 3
   },
   "file_extension": ".py",
   "mimetype": "text/x-python",
   "name": "python",
   "nbconvert_exporter": "python",
   "pygments_lexer": "ipython3",
   "version": "3.10.12"
  }
 },
 "nbformat": 4,
 "nbformat_minor": 5
}
