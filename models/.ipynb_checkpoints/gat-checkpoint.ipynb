{
 "cells": [
  {
   "cell_type": "code",
   "execution_count": 1,
   "id": "2d9354fb-da49-4036-8513-474c9edccf29",
   "metadata": {},
   "outputs": [],
   "source": [
    "import torch\n",
    "import torch.nn.functional as F\n",
    "import torchmetrics\n",
    "from torch_geometric.nn import GATConv\n",
    "import matplotlib.pyplot as plt\n",
    "import numpy as np\n",
    "import pickle\n",
    "from sklearn.model_selection import train_test_split\n",
    "import itertools"
   ]
  },
  {
   "cell_type": "code",
   "execution_count": 3,
   "id": "9652fe05-1e1e-4f35-bdb2-1cdaee50388c",
   "metadata": {},
   "outputs": [],
   "source": [
    "# ucitavanje grafa\n",
    "with open('../preprocessing/graph.pkl', 'rb') as f:\n",
    "    G = pickle.load(f)"
   ]
  },
  {
   "cell_type": "code",
   "execution_count": 4,
   "id": "accee626-bce5-4141-a53a-7ac85f519920",
   "metadata": {},
   "outputs": [],
   "source": [
    "from torch_geometric.utils import from_networkx\n",
    "data = from_networkx(G)"
   ]
  },
  {
   "cell_type": "code",
   "execution_count": 5,
   "id": "27a565b2-2ef6-4b25-ad1c-bb381eaeba02",
   "metadata": {},
   "outputs": [],
   "source": [
    "# podela cvorova na trening, validacioni i test skup\n",
    "nodes = list(G.nodes)\n",
    "train_nodes, test_nodes = train_test_split(nodes, test_size=0.2, random_state=42)\n",
    "train_nodes, val_nodes = train_test_split(train_nodes, test_size=0.2, random_state=42)"
   ]
  },
  {
   "cell_type": "code",
   "execution_count": 6,
   "id": "664ab231-d9ec-4a5e-9205-48f926d6d8c8",
   "metadata": {},
   "outputs": [],
   "source": [
    "# kreiranje maske za skupove\n",
    "train_mask = torch.tensor([True if node in train_nodes else False for node in range(len(G.nodes))])\n",
    "val_mask = torch.tensor([True if node in val_nodes else False for node in range(len(G.nodes))])\n",
    "test_mask = torch.tensor([True if node in test_nodes else False for node in range(len(G.nodes))])"
   ]
  },
  {
   "cell_type": "code",
   "execution_count": 7,
   "id": "ba400e95-d674-43c3-a5b6-6f2597cd6b3d",
   "metadata": {},
   "outputs": [],
   "source": [
    "# atributi\n",
    "node_features = [list(G.nodes[node].values())[:-1] for node in G.nodes]\n",
    "node_features = torch.tensor(node_features, dtype=torch.float)\n",
    "\n",
    "# ciljne promenljive\n",
    "labels = np.array([G.nodes[node]['target'] for node in G.nodes])\n",
    "labels = torch.tensor(labels, dtype=torch.float)\n",
    "\n",
    "# dodajemo i labelu koja ce da oznacava da cvor ne pripada nijednoj ego mrezi \n",
    "# -> kako bismo mogli da dodelimo odgovarajucu tezinu zbog nebalansiranosti klasa :)\n",
    "no_class_nodes = (labels.sum(dim=1) == 0).float()\n",
    "dummy_class = no_class_nodes.unsqueeze(1)\n",
    "labels = torch.cat([labels, dummy_class], dim=1)\n",
    "\n",
    "\n",
    "data.x = node_features\n",
    "data.y = labels\n",
    "data.train_mask = train_mask\n",
    "data.val_mask = val_mask\n",
    "data.test_mask = test_mask"
   ]
  },
  {
   "cell_type": "code",
   "execution_count": 8,
   "id": "90d10031-8918-4b4b-b8d8-b33172f541c3",
   "metadata": {},
   "outputs": [],
   "source": [
    "class GAT(torch.nn.Module):\n",
    "    def __init__(self, in_channels, hidden_channels, out_channels, dropout_rate, num_heads=4):\n",
    "        super(GAT, self).__init__()\n",
    "        self.gat1 = GATConv(in_channels, hidden_channels, heads=num_heads, concat=True)\n",
    "        self.dropout = torch.nn.Dropout(dropout_rate)\n",
    "        self.gat2 = GATConv(hidden_channels * num_heads, out_channels, heads=1, concat=False)\n",
    "\n",
    "    def forward(self, data):\n",
    "        x, edge_index = data.x, data.edge_index\n",
    "        x = self.gat1(x, edge_index)\n",
    "        x = F.elu(x)\n",
    "        x = self.dropout(x)\n",
    "        x = self.gat2(x, edge_index)\n",
    "        return x"
   ]
  },
  {
   "cell_type": "code",
   "execution_count": 9,
   "id": "ce381147-0def-4fb7-8c6c-96c1f587bad4",
   "metadata": {},
   "outputs": [],
   "source": [
    "# Hiperparametri\n",
    "hyperparameters = {\n",
    "    'hidden_channels': [32, 64],\n",
    "    'dropout_rate': [0.2, 0.5],\n",
    "    'num_heads': [2, 4, 8],\n",
    "    'num_epochs': [30, 60]\n",
    "}\n",
    "learning_rate = 0.01\n",
    "weight_decay = 5e-4\n",
    "# early_stopping_threshold = 20  # Broj epoha pre zaustavljanja"
   ]
  },
  {
   "cell_type": "code",
   "execution_count": 10,
   "id": "8961a62e-6792-4b94-87a2-e3c6c24e8f27",
   "metadata": {},
   "outputs": [],
   "source": [
    "# metrike\n",
    "device = 'cuda' if torch.cuda.is_available() else 'cpu'\n",
    "precision = torchmetrics.Precision(num_labels=labels.shape[1], average='macro', task='multilabel').to(device)\n",
    "recall = torchmetrics.Recall(num_labels=labels.shape[1], average='macro', task='multilabel').to(device)\n",
    "f1 = torchmetrics.F1Score(num_labels=labels.shape[1], average='macro', task='multilabel').to(device)"
   ]
  },
  {
   "cell_type": "code",
   "execution_count": 12,
   "id": "6ba298d1-93b8-4b23-87a6-623a6c3fd465",
   "metadata": {},
   "outputs": [],
   "source": [
    "from sklearn.metrics import multilabel_confusion_matrix\n",
    "import matplotlib.pyplot as plt\n",
    "import seaborn as sns\n",
    "import pandas as pd\n",
    "\n",
    "ego_to_index_df = pd.read_csv(\"../preprocessing/ego_to_index.csv\", index_col=0)\n",
    "ego_to_index = ego_to_index_df.to_dict(orient='index')\n",
    "ego_to_index = {int(ego_id): int(index['index']) for ego_id, index in ego_to_index.items()}\n",
    "\n",
    "# Funkcija za prikaz matrice konfuzije\n",
    "def plot_confusion_matrix(y_true, y_pred, num_classes):\n",
    "    conf_matrix = multilabel_confusion_matrix(y_true, y_pred)\n",
    "    \n",
    "    # Prikaz za svaku klasu\n",
    "    for i in range(num_classes):\n",
    "        plt.figure(figsize=(5, 4))\n",
    "        sns.heatmap(conf_matrix[i], annot=True, fmt='d', cmap='Blues')\n",
    "        if i == 10:\n",
    "            plt.title(f'Matrica konfuzije za čvorove koji ne pripadaju nijednoj ego mreži')\n",
    "        else:\n",
    "            plt.title(f'Matrica konfuzije za ego mrežu čvora {[key for key, value in ego_to_index.items() if value == i]}')\n",
    "        plt.xlabel('Predicted')\n",
    "        plt.ylabel('True')\n",
    "        plt.show()"
   ]
  },
  {
   "cell_type": "code",
   "execution_count": 13,
   "id": "a7f24702-4064-49f7-976f-e8562eccda5e",
   "metadata": {},
   "outputs": [
    {
     "name": "stdout",
     "output_type": "stream",
     "text": [
      "Nodes in ego (train only): tensor([168., 290., 133.,  94., 112.,  33., 498., 474.,  68.,  36., 736.])\n",
      "Class weights: tensor([15.3810,  8.9103, 19.4286, 27.4894, 23.0714, 78.3030,  5.1888,  5.4515,\n",
      "        38.0000, 71.7778,  3.5109])\n"
     ]
    }
   ],
   "source": [
    "train_labels = labels[data.train_mask]  \n",
    "nodes_in_ego_train = train_labels.sum(dim=0)\n",
    "\n",
    "total_train_nodes_num = train_labels.shape[0]\n",
    "class_weights = total_train_nodes_num / (nodes_in_ego_train + 1e-6)  \n",
    "\n",
    "print(f'Nodes in ego (train only): {nodes_in_ego_train}')\n",
    "print(f'Class weights: {class_weights}')"
   ]
  },
  {
   "cell_type": "code",
   "execution_count": 14,
   "id": "73ce5b3d-0102-477c-a604-3f04eb868d2c",
   "metadata": {},
   "outputs": [],
   "source": [
    "def train():\n",
    "    model.train()\n",
    "    optimizer.zero_grad()\n",
    "    \n",
    "    pred_train = model(data)[data.train_mask].to(device)\n",
    "    loss = criterion(pred_train, data.y[data.train_mask].float().to(device))\n",
    "    loss.backward()\n",
    "    optimizer.step()\n",
    "    \n",
    "    preds_train = (torch.sigmoid(pred_train) > 0.5).float()\n",
    "    acc_train = (preds_train == data.y[data.train_mask].to(device)).float().mean()\n",
    "    precision_train = precision(pred_train.to(device), data.y[data.train_mask].to(device))\n",
    "    recall_train = recall(pred_train.to(device), data.y[data.train_mask].to(device))\n",
    "    f1_train = f1(pred_train.to(device), data.y[data.train_mask].to(device))\n",
    "    \n",
    "    return loss, acc_train.item(), precision_train.item(), recall_train.item(), f1_train.item()"
   ]
  },
  {
   "cell_type": "code",
   "execution_count": 15,
   "id": "1c53d8d1-0f49-4b42-8015-45a05dc3f48b",
   "metadata": {},
   "outputs": [],
   "source": [
    "def evaluate(mask):\n",
    "    model.eval()\n",
    "    with torch.no_grad():\n",
    "        pred_val = model(data)[mask].to(device)\n",
    "        loss_val = criterion(pred_val, data.y[mask].float().to(device))\n",
    "        \n",
    "        preds_val = (torch.sigmoid(pred_val) > 0.5).float()\n",
    "        acc_val = (preds_val == data.y[mask].to(device)).float().mean()\n",
    "        precision_val = precision(pred_val.to(device), data.y[mask].to(device))\n",
    "        recall_val = recall(pred_val.to(device), data.y[mask].to(device))\n",
    "        f1_val = f1(pred_val.to(device), data.y[mask].to(device))\n",
    "\n",
    "        if torch.equal(mask, data.test_mask):\n",
    "            # Vizualizacija matrice konfuzije na test skupu\n",
    "            plot_confusion_matrix(data.y[data.test_mask].to(device), preds_val.to(device), labels.shape[1])\n",
    "        \n",
    "        \n",
    "    return loss_val, acc_val.item(), precision_val.item(), recall_val.item(), f1_val.item()"
   ]
  },
  {
   "cell_type": "code",
   "execution_count": null,
   "id": "dd78d9cf-ce9f-4d25-98d3-d41c08ee884e",
   "metadata": {
    "scrolled": false
   },
   "outputs": [
    {
     "name": "stdout",
     "output_type": "stream",
     "text": [
      "Testing parameters: (32, 0.2, 2, 30)\n",
      "[Train] Epoch: 0, Loss: 1.3238, Accuracy: 0.4230, Precision: 0.0884, Recall: 0.5906, F1: 0.1402\n",
      "[Train] Epoch: 10, Loss: 0.2716, Accuracy: 0.9371, Precision: 0.6154, Recall: 0.9753, F1: 0.7202\n",
      "[Train] Epoch: 20, Loss: 0.2005, Accuracy: 0.9501, Precision: 0.6745, Recall: 0.9758, F1: 0.7621\n",
      "[Validate] Loss: 0.2200, Accuracy: 0.9503, Precision: 0.7051, Recall: 0.9682, F1: 0.7799\n",
      "Testing parameters: (32, 0.2, 2, 60)\n",
      "[Train] Epoch: 0, Loss: 1.3245, Accuracy: 0.4234, Precision: 0.1107, Recall: 0.4360, F1: 0.1459\n",
      "[Train] Epoch: 10, Loss: 0.2929, Accuracy: 0.9437, Precision: 0.6286, Recall: 0.9548, F1: 0.7236\n",
      "[Train] Epoch: 20, Loss: 0.2016, Accuracy: 0.9489, Precision: 0.6693, Recall: 0.9766, F1: 0.7592\n",
      "[Train] Epoch: 30, Loss: 0.1899, Accuracy: 0.9538, Precision: 0.7132, Recall: 0.9803, F1: 0.8008\n",
      "[Train] Epoch: 40, Loss: 0.1829, Accuracy: 0.9528, Precision: 0.6887, Recall: 0.9832, F1: 0.7815\n",
      "[Train] Epoch: 50, Loss: 0.1727, Accuracy: 0.9541, Precision: 0.7163, Recall: 0.9835, F1: 0.8038\n"
     ]
    }
   ],
   "source": [
    "# treniranje i podešavanje hiperparametara\n",
    "best_params = None\n",
    "best_loss = float('inf')\n",
    "\n",
    "# kreiranje svih kombinacije hiperparametara\n",
    "param_combinations = list(itertools.product(\n",
    "    hyperparameters['hidden_channels'],\n",
    "    hyperparameters['dropout_rate'],\n",
    "    hyperparameters['num_heads'],\n",
    "    hyperparameters['num_epochs']\n",
    "))\n",
    "\n",
    "for params in param_combinations:\n",
    "    hidden_channels, dropout_rate, num_heads, num_epochs = params\n",
    "    print(f'Testing parameters: {params}')\n",
    "\n",
    "    # Inicijalizacija modela, optimizatora i kriterijuma\n",
    "    model = None\n",
    "    model = GAT(in_channels=node_features.shape[1], hidden_channels=hidden_channels, out_channels=labels.shape[1], dropout_rate=dropout_rate, num_heads=num_heads).to(device)\n",
    "    optimizer = torch.optim.Adam(model.parameters(), lr=learning_rate, weight_decay=weight_decay)\n",
    "    criterion = torch.nn.BCEWithLogitsLoss(pos_weight=class_weights.to(device))\n",
    "\n",
    "    for epoch in range(num_epochs):\n",
    "        loss_train, acc_train, precision_train, recall_train, f1_train = train()\n",
    "        \n",
    "        if epoch % 10 == 0:\n",
    "            print(f'[Train] Epoch: {epoch}, Loss: {loss_train:.4f}, Accuracy: {acc_train:.4f}, Precision: {precision_train:.4f}, Recall: {recall_train:.4f}, F1: {f1_train:.4f}')\n",
    "        \n",
    "        if epoch == num_epochs-1:\n",
    "            loss_val, acc_val, precision_val, recall_val, f1_val = evaluate(data.val_mask)\n",
    "            print(f'[Validate] Loss: {loss_val:.4f}, Accuracy: {acc_val:.4f}, Precision: {precision_val:.4f}, Recall: {recall_val:.4f}, F1: {f1_val:.4f}')\n",
    "            if loss_val < best_loss:\n",
    "                best_loss = loss_val\n",
    "                best_params = params\n",
    "\n",
    "print(f'Best parameters: {best_params}, with loss: {best_loss:.4f}')"
   ]
  },
  {
   "cell_type": "code",
   "execution_count": null,
   "id": "3cf6c415-5d5a-4791-b0dd-ac8a53b8e128",
   "metadata": {},
   "outputs": [],
   "source": [
    "# Pokreni testiranje sa najboljim parametrima\n",
    "hidden_channels, dropout_rate, num_heads, num_epochs = best_params\n",
    "print(f'Testing the best model with parameters: {best_params}')\n",
    "\n",
    "# inicijalizacija modela sa najboljim parametrima\n",
    "model = GAT(in_channels=node_features.shape[1], hidden_channels=hidden_channels, out_channels=labels.shape[1], dropout_rate=dropout_rate, num_heads=num_heads).to(device)\n",
    "optimizer = torch.optim.Adam(model.parameters(), lr=learning_rate, weight_decay=weight_decay)\n",
    "criterion = torch.nn.BCEWithLogitsLoss(pos_weight=class_weights.to(device))\n",
    "\n",
    "for epoch in range(num_epochs):\n",
    "    loss_train, acc_train, precision_train, recall_train, f1_train = train()\n",
    "\n",
    "test_loss, test_acc, test_precision, test_recall, test_f1 = evaluate(data.test_mask)\n",
    "\n",
    "# prikaz rezultata na test skupu\n",
    "print(f'Test Loss: {test_loss:.4f}')\n",
    "print(f'Test Accuracy: {test_acc:.4f}')\n",
    "print(f'Test Precision: {test_precision:.4f}')\n",
    "print(f'Test Recall: {test_recall:.4f}')\n",
    "print(f'Test F1 Score: {test_f1:.4f}')"
   ]
  },
  {
   "cell_type": "code",
   "execution_count": null,
   "id": "4b6659d7",
   "metadata": {},
   "outputs": [],
   "source": []
  }
 ],
 "metadata": {
  "kernelspec": {
   "display_name": "Python 3 (ipykernel)",
   "language": "python",
   "name": "python3"
  },
  "language_info": {
   "codemirror_mode": {
    "name": "ipython",
    "version": 3
   },
   "file_extension": ".py",
   "mimetype": "text/x-python",
   "name": "python",
   "nbconvert_exporter": "python",
   "pygments_lexer": "ipython3",
   "version": "3.10.12"
  }
 },
 "nbformat": 4,
 "nbformat_minor": 5
}
